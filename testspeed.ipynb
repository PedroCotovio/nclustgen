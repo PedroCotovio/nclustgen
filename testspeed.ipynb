{
 "cells": [
  {
   "cell_type": "code",
   "execution_count": 10,
   "metadata": {},
   "outputs": [
    {
     "name": "stdout",
     "output_type": "stream",
     "text": [
      "The autoreload extension is already loaded. To reload it, use:\n",
      "  %reload_ext autoreload\n"
     ]
    }
   ],
   "source": [
    "%load_ext autoreload\n",
    "%autoreload 2\n",
    "\n",
    "from testspeed import speedtest"
   ]
  },
  {
   "cell_type": "code",
   "execution_count": 12,
   "metadata": {},
   "outputs": [
    {
     "name": "stderr",
     "output_type": "stream",
     "text": [
      "SPEEDTEST: 9: 100%|██████████| 10/10 [00:16<00:00,  1.69s/it]\n"
     ]
    },
    {
     "data": {
      "text/plain": [
       "{'dense': {'generate': [0.07306799799844158, 0.03948056617305852],\n",
       "  'graphNet': [0.57142796190019, 0.011170346105917762],\n",
       "  'graphDGLcpu': [0.040576954699645285, 0.0013934279583588918],\n",
       "  'graphDGLgpu': [0.1018115808008588, 0.0064558092409724745],\n",
       "  'save': [0.0694346123986179, 0.030807243213349406]},\n",
       " 'sparse': {'generate': [0.0784584143970278, 0.04150116606410189],\n",
       "  'graphNet': [0.563502539898036, 0.007541431458797555],\n",
       "  'graphDGLcpu': [0.04171779729804257, 0.0012900729857612731],\n",
       "  'graphDGLgpu': [0.09796102779946522, 0.0027164816590454642],\n",
       "  'save': [0.05366926169808721, 0.04083511786186672]}}"
      ]
     },
     "execution_count": 12,
     "metadata": {},
     "output_type": "execute_result"
    }
   ],
   "source": [
    "speedtest(shape=(100, 100, 3), hidden=1)"
   ]
  },
  {
   "cell_type": "code",
   "execution_count": 13,
   "metadata": {},
   "outputs": [
    {
     "name": "stderr",
     "output_type": "stream",
     "text": [
      "SPEEDTEST: 9: 100%|██████████| 10/10 [00:16<00:00,  1.68s/it]\n"
     ]
    },
    {
     "data": {
      "text/plain": [
       "{'dense': {'generate': [0.07887076700135368, 0.034574870470690945],\n",
       "  'graphNet': [0.558424207000644, 0.007579287021954023],\n",
       "  'graphDGLcpu': [0.040196988002571744, 0.001439021684974671],\n",
       "  'graphDGLgpu': [0.10063806360267336, 0.0027973020915105216],\n",
       "  'save': [0.06382972789870109, 0.03545948561670272]},\n",
       " 'sparse': {'generate': [0.0785001274998649, 0.04083817616765115],\n",
       "  'graphNet': [0.5554463949985802, 0.01778634875084285],\n",
       "  'graphDGLcpu': [0.0409970690991031, 0.0016062109575448599],\n",
       "  'graphDGLgpu': [0.10089464119955664, 0.0031053068179593426],\n",
       "  'save': [0.06092333340202458, 0.037185836568142304]}}"
      ]
     },
     "execution_count": 13,
     "metadata": {},
     "output_type": "execute_result"
    }
   ],
   "source": [
    "speedtest(shape=(100, 100, 3), hidden=5)"
   ]
  },
  {
   "cell_type": "code",
   "execution_count": 17,
   "metadata": {},
   "outputs": [
    {
     "name": "stderr",
     "output_type": "stream",
     "text": [
      "SPEEDTEST: 9: 100%|██████████| 10/10 [00:15<00:00,  1.55s/it]\n"
     ]
    },
    {
     "data": {
      "text/plain": [
       "{'dense': {'generate': [0.026754395998432302, 0.001561470823664004],\n",
       "  'graphNet': [0.6696387774019967, 0.04590452074130812],\n",
       "  'graphDGLcpu': [0.03724066559661878, 0.0008062716721829161],\n",
       "  'graphDGLgpu': [0.02648147380386945, 0.022823830307525363],\n",
       "  'save': [0.013585666201834101, 0.00039934521881126946]},\n",
       " 'sparse': {'generate': [0.037165182203170846, 0.024638080762172717],\n",
       "  'graphNet': [0.6766958236010396, 0.01790271506926724],\n",
       "  'graphDGLcpu': [0.0373284840999986, 0.0015987019856149598],\n",
       "  'graphDGLgpu': [0.019451998300792184, 0.00035303101506978083],\n",
       "  'save': [0.007195849498384632, 0.00046170336276601416]}}"
      ]
     },
     "execution_count": 17,
     "metadata": {},
     "output_type": "execute_result"
    }
   ],
   "source": [
    "speedtest(shape=(100, 100, 3), hidden=30)"
   ]
  },
  {
   "cell_type": "code",
   "execution_count": 14,
   "metadata": {},
   "outputs": [
    {
     "name": "stderr",
     "output_type": "stream",
     "text": [
      "SPEEDTEST: 9: 100%|██████████| 10/10 [04:16<00:00, 25.66s/it]\n"
     ]
    },
    {
     "data": {
      "text/plain": [
       "{'dense': {'generate': [0.49604243579669854, 0.027267605849024747],\n",
       "  'graphNet': [9.83369257319573, 0.3261184712142898],\n",
       "  'graphDGLcpu': [1.440167783702782, 0.06958694360017198],\n",
       "  'graphDGLgpu': [0.5960284227010562, 0.016579081247657782],\n",
       "  'save': [0.29369818849954754, 0.04492570340398954]},\n",
       " 'sparse': {'generate': [0.7568574460034142, 0.13077287911436775],\n",
       "  'graphNet': [10.201247289202001, 0.44030722211841244],\n",
       "  'graphDGLcpu': [1.29206211270357, 0.03994969917252142],\n",
       "  'graphDGLgpu': [0.5907225373957772, 0.0156023757157771],\n",
       "  'save': [0.16179310169973177, 0.006186565147541611]}}"
      ]
     },
     "execution_count": 14,
     "metadata": {},
     "output_type": "execute_result"
    }
   ],
   "source": [
    "speedtest(shape=(1000, 100, 5), hidden=1)"
   ]
  },
  {
   "cell_type": "code",
   "execution_count": 15,
   "metadata": {},
   "outputs": [
    {
     "name": "stderr",
     "output_type": "stream",
     "text": [
      "SPEEDTEST: 9: 100%|██████████| 10/10 [04:13<00:00, 25.34s/it]\n"
     ]
    },
    {
     "data": {
      "text/plain": [
       "{'dense': {'generate': [0.49861130859790137, 0.032178162032884976],\n",
       "  'graphNet': [9.550081601899, 0.21604630167639097],\n",
       "  'graphDGLcpu': [1.4257880089993704, 0.06982812551090205],\n",
       "  'graphDGLgpu': [0.5832872095008497, 0.01920212962832251],\n",
       "  'save': [0.29944697999890196, 0.026809629421821333]},\n",
       " 'sparse': {'generate': [0.7982924366006046, 0.027492184048449466],\n",
       "  'graphNet': [10.175586968200514, 0.32956992572697336],\n",
       "  'graphDGLcpu': [1.2661491102990112, 0.0505487522264542],\n",
       "  'graphDGLgpu': [0.5816193889986607, 0.01811816094957043],\n",
       "  'save': [0.1623239951033611, 0.010254178491608113]}}"
      ]
     },
     "execution_count": 15,
     "metadata": {},
     "output_type": "execute_result"
    }
   ],
   "source": [
    "speedtest(shape=(1000, 100, 5), hidden=5)"
   ]
  },
  {
   "cell_type": "code",
   "execution_count": 16,
   "metadata": {},
   "outputs": [
    {
     "name": "stderr",
     "output_type": "stream",
     "text": [
      "SPEEDTEST: 9: 100%|██████████| 10/10 [04:15<00:00, 25.56s/it]\n"
     ]
    },
    {
     "data": {
      "text/plain": [
       "{'dense': {'generate': [0.5178182923002168, 0.06201416170776225],\n",
       "  'graphNet': [9.893840637197718, 0.21225914868648674],\n",
       "  'graphDGLcpu': [1.455514223301725, 0.05526890728818142],\n",
       "  'graphDGLgpu': [0.5939363745012087, 0.01724977013069475],\n",
       "  'save': [0.2668624178011669, 0.031728994541304054]},\n",
       " 'sparse': {'generate': [0.672494411795924, 0.11630603882125773],\n",
       "  'graphNet': [10.059673440404003, 0.37524932754250084],\n",
       "  'graphDGLcpu': [1.323793195898179, 0.07536252118454004],\n",
       "  'graphDGLgpu': [0.5914943762982148, 0.02077217988459113],\n",
       "  'save': [0.180767816498701, 0.054775032671051]}}"
      ]
     },
     "execution_count": 16,
     "metadata": {},
     "output_type": "execute_result"
    }
   ],
   "source": [
    "speedtest(shape=(1000, 100, 5), hidden=30)"
   ]
  },
  {
   "cell_type": "code",
   "execution_count": null,
   "metadata": {},
   "outputs": [],
   "source": []
  }
 ],
 "metadata": {
  "interpreter": {
   "hash": "729828cdc861d6d099b66561a3a946b82b8f1c817032c383ea17d59bc3dfae8c"
  },
  "kernelspec": {
   "display_name": "Python 3.8.10 ('venv': venv)",
   "language": "python",
   "name": "python3"
  },
  "language_info": {
   "codemirror_mode": {
    "name": "ipython",
    "version": 3
   },
   "file_extension": ".py",
   "mimetype": "text/x-python",
   "name": "python",
   "nbconvert_exporter": "python",
   "pygments_lexer": "ipython3",
   "version": "3.8.10"
  },
  "orig_nbformat": 4
 },
 "nbformat": 4,
 "nbformat_minor": 2
}
